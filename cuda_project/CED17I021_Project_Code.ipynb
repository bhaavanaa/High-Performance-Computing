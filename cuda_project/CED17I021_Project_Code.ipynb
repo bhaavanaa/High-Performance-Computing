{
  "nbformat": 4,
  "nbformat_minor": 0,
  "metadata": {
    "colab": {
      "name": "CED17I021_CUDA_Project.ipynb",
      "provenance": [],
      "collapsed_sections": []
    },
    "kernelspec": {
      "name": "python3",
      "display_name": "Python 3"
    },
    "accelerator": "GPU"
  },
  "cells": [
    {
      "cell_type": "markdown",
      "metadata": {
        "id": "gnGctLFI9ogi"
      },
      "source": [
        "Using Discrete Fourier Transform for finding the normalized frequency of a random wave and parallelizing the code using CUDA"
      ]
    },
    {
      "cell_type": "code",
      "metadata": {
        "id": "EbUNUy5X_TAI"
      },
      "source": [
        "!apt-get --purge remove cuda nvidia* libnvidia-*\n",
        "!dpkg -l | grep cuda- | awk '{print $2}' | xargs -n1 dpkg --purge\n",
        "!apt-get remove cuda-*\n",
        "!apt autoremove\n",
        "!apt-get update"
      ],
      "execution_count": null,
      "outputs": []
    },
    {
      "cell_type": "code",
      "metadata": {
        "id": "9HxU-2mz_YrE"
      },
      "source": [
        "!wget https://developer.nvidia.com/compute/cuda/9.2/Prod/local_installers/cuda-repo-ubuntu1604-9-2-local_9.2.88-1_amd64 -O cuda-repo-ubuntu1604-9-2-local_9.2.88-1_amd64.deb\n",
        "!dpkg -i cuda-repo-ubuntu1604-9-2-local_9.2.88-1_amd64.deb\n",
        "!apt-key add /var/cuda-repo-9-2-local/7fa2af80.pub\n",
        "!apt-get update\n",
        "!apt-get install cuda-9.2"
      ],
      "execution_count": null,
      "outputs": []
    },
    {
      "cell_type": "code",
      "metadata": {
        "id": "CuffCuw0_ewF"
      },
      "source": [
        "!nvcc --version"
      ],
      "execution_count": null,
      "outputs": []
    },
    {
      "cell_type": "code",
      "metadata": {
        "id": "4gmm6nI1_f49"
      },
      "source": [
        "!pip install git+git://github.com/andreinechaev/nvcc4jupyter.git"
      ],
      "execution_count": null,
      "outputs": []
    },
    {
      "cell_type": "code",
      "metadata": {
        "id": "Udn7W5j5_ixL"
      },
      "source": [
        "%load_ext nvcc_plugin"
      ],
      "execution_count": null,
      "outputs": []
    },
    {
      "cell_type": "code",
      "metadata": {
        "id": "hrcukTWGE7eX",
        "outputId": "222b3f34-ed70-400e-b3b1-9208bf5f0dc6",
        "colab": {
          "base_uri": "https://localhost:8080/"
        }
      },
      "source": [
        "%%cu\n",
        "\n",
        "#include<stdio.h>\n",
        "#include<stdlib.h>\n",
        "#include<math.h>\n",
        "#include <sys/time.h>\n",
        "\n",
        "#define PI 3.14159265\n",
        "\n",
        "#define N 10000                                 // the number of random samples\n",
        "#define thread_count 500                        // the number of threads initialized\n",
        "\n",
        "\n",
        "__global__ void dft(double *d_samples, double *d_dft_real, double *d_dft_img, double *d_k_by_N, double *d_power_spectrum, double *d_sum_power_spectrum, double *d_sum_freq_power)\n",
        "{\n",
        "    int load = N/thread_count;                                        // calculating the load per thread\n",
        " \n",
        "    __shared__ double partial_sum_power_spectrum[thread_count];       // initializing a partial sum variable which will find the partial sums of the power_spectrum for the load assigned to it\n",
        "    __shared__ double partial_sum_freq_power[thread_count];           // initializing a partial sum variable which will find the partial sums of the freq_power for the load assigned to it\n",
        "\n",
        "    partial_sum_power_spectrum[threadIdx.x] = 0;                      // initializing the partial sum variables to 0\n",
        "    partial_sum_freq_power[threadIdx.x] = 0;\n",
        "\n",
        "    if(threadIdx.x != thread_count-1)                                 // if it is not the last thread, it will do load amt of work\n",
        "    {\n",
        "        for(int k=threadIdx.x*load; k<(threadIdx.x+1)*load; k++)      // for every element in the load\n",
        "        {\n",
        "            for(int n=0; n<N; n++)\n",
        "            {\n",
        "                d_dft_real[k] += d_samples[n] * cos((2*PI*k*n)/N);    // find the real and img part of the dft\n",
        "                d_dft_img[k] += d_samples[n] * sin((2*PI*k*n)/N);\n",
        "            }\n",
        "         \n",
        "            d_k_by_N[k] = (double)k/N;                                // find the k/N value\n",
        "         \n",
        "            d_power_spectrum[k] = d_dft_real[k]*d_dft_real[k] + d_dft_img[k]*d_dft_img[k];          // find the power spectrum value\n",
        "\n",
        "            partial_sum_power_spectrum[threadIdx.x] += d_power_spectrum[k];                         // obtain the partial power_spectrum sum of the load assigned to the thread\n",
        "            partial_sum_freq_power[threadIdx.x] += 2*PI*d_k_by_N[k]*d_power_spectrum[k];            // obtain the partial freq_power sum of the load assigned to the thread\n",
        "        }\n",
        "    }\n",
        "    else                                                              // if it is last thread, then it will do load+leftover work\n",
        "    {\n",
        "        for(int k=threadIdx.x*load; k<N; k++)\n",
        "        {\n",
        "            for(int n=0; n<N; n++)\n",
        "            {\n",
        "                d_dft_real[k] += d_samples[n] * cos((2*PI*k*n)/N);\n",
        "                d_dft_img[k] += d_samples[n] * sin((2*PI*k*n)/N);\n",
        "            }\n",
        "         \n",
        "            d_k_by_N[k] = (double)k/N;\n",
        "         \n",
        "            d_power_spectrum[k] = d_dft_real[k]*d_dft_real[k] + d_dft_img[k]*d_dft_img[k];\n",
        "\n",
        "            partial_sum_power_spectrum[threadIdx.x] += d_power_spectrum[k];\n",
        "            partial_sum_freq_power[threadIdx.x] += 2*PI*d_k_by_N[k]*d_power_spectrum[k]; \n",
        "        }\n",
        "    }\n",
        " \n",
        "    __syncthreads();\n",
        " \n",
        "    if(threadIdx.x == 0)                                                // if it is the master process\n",
        "    {\n",
        "        *d_sum_power_spectrum = 0;                                      // initialize the total sums to 0\n",
        "        *d_sum_freq_power = 0;\n",
        "\n",
        "        for(int i=0; i<thread_count; i++)                               // find total sum = sum of partial sums \n",
        "        {\n",
        "            *d_sum_power_spectrum += partial_sum_power_spectrum[i];     \n",
        "            *d_sum_freq_power += partial_sum_freq_power[i];\n",
        "        }\n",
        "    }\n",
        "}\n",
        "\n",
        "\n",
        "int main() \n",
        "{\n",
        "    struct timeval t1, t2;                                                                    // for keeping track of the startand end time\n",
        "\n",
        "    double *samples, *d_samples;                                                              // array which contains the sample values\n",
        "    double *dft_real, *d_dft_real, *dft_img, *d_dft_img;                                      // array which stores the real and img part of the DFT of the sample\n",
        "    double *k_by_N, *d_k_by_N, *power_spectrum, *d_power_spectrum;                            // arrays which store the k/N and power spectrum \n",
        "    double sum_power_spectrum, *d_sum_power_spectrum, sum_freq_power, *d_sum_freq_power;      // for storing the final sum of the power spectrum and the total frequency\n",
        "    \n",
        "    samples = (double*)malloc(sizeof(double) * N);                                            // allocating space for samples in the host\n",
        "    dft_real = (double*)malloc(sizeof(double) * N);                                           // allocating space for dft_real in the host\n",
        "    dft_img = (double*)malloc(sizeof(double) * N);                                            // allocating space for dft_img in the host\n",
        "    k_by_N = (double*)malloc(sizeof(double) * N);                                             // allocating space for k_by_N in the host\n",
        "    power_spectrum = (double*)malloc(sizeof(double) * N);                                     // allocating space for power_spectrum in the host\n",
        " \n",
        "    cudaMalloc((void**)&d_samples, sizeof(double) * N);                                       // allocating space for d_samples in the device\n",
        "    cudaMalloc((void**)&d_dft_real, sizeof(double) * N);                                      // allocating space for d_dft_real in the device\n",
        "    cudaMalloc((void**)&d_dft_img, sizeof(double) * N);                                       // allocating space for d_dft_img in the device\n",
        "    cudaMalloc((void**)&d_k_by_N, sizeof(double) * N);                                        // allocating space for d_k_by_N in the device\n",
        "    cudaMalloc((void**)&d_power_spectrum, sizeof(double) * N);                                // allocating space for d_power_spectrum in the device\n",
        " \n",
        "    cudaMalloc((void**)&d_sum_power_spectrum, sizeof(double));                                // allocating space for sum_power_spectrum in the device\n",
        "    cudaMalloc((void**)&d_sum_freq_power, sizeof(double));                                    // allocating space for sum_freq_power in the device\n",
        "\n",
        "    for(int i=0; i<N; i++)                                                                    \n",
        "    {\n",
        "        samples[i] = ((float)rand()/RAND_MAX)*(float)(2.0) - 1;                               // assigning random values to samples\n",
        "        // samples[i] = i;\n",
        "        dft_real[i] = 0;                                                                      // initializing the elements of the other arrays to 0\n",
        "        dft_img[i] = 0;\n",
        "        k_by_N[i] = 0;\n",
        "        power_spectrum[i] = 0;\n",
        "    }\n",
        " \n",
        "    gettimeofday(&t1, 0);                                                                     // obtaining the start time\n",
        "\n",
        "    cudaMemcpy(d_samples, samples, sizeof(double) * N, cudaMemcpyHostToDevice);               // copying the host variables to the device variables using cudaMemcpy\n",
        "    cudaMemcpy(d_dft_real, dft_real, sizeof(double) * N, cudaMemcpyHostToDevice);\n",
        "    cudaMemcpy(d_dft_img, dft_img, sizeof(double) * N, cudaMemcpyHostToDevice);\n",
        "    cudaMemcpy(d_k_by_N, k_by_N, sizeof(double) * N, cudaMemcpyHostToDevice);\n",
        "    cudaMemcpy(d_power_spectrum, power_spectrum, sizeof(double) * N, cudaMemcpyHostToDevice);\n",
        " \n",
        "    dft<<<1,thread_count>>>(d_samples, d_dft_real, d_dft_img, d_k_by_N, d_power_spectrum, d_sum_power_spectrum, d_sum_freq_power);        // function call\n",
        " \n",
        "    cudaMemcpy(&sum_power_spectrum, d_sum_power_spectrum, sizeof(double), cudaMemcpyDeviceToHost);                // copying the results from the device variables to the host variables\n",
        "    cudaMemcpy(&sum_freq_power, d_sum_freq_power, sizeof(double), cudaMemcpyDeviceToHost);\n",
        " \n",
        "    gettimeofday(&t2, 0);                                                                     // obtaining the end time\n",
        " \n",
        "    float normalized_freq = (float)sum_freq_power/sum_power_spectrum;                         // obtaining the normalized frequency\n",
        " \n",
        "    printf(\"The normalized frequency of the random wave is %f\\n\\n\", normalized_freq);\n",
        " \n",
        "    double time = (1000000.0*(t2.tv_sec-t1.tv_sec) + t2.tv_usec-t1.tv_usec)/1000000.0;        // calculating the time taken      \n",
        "    printf(\"time taken : %lf sec\\n\", time);\n",
        " \n",
        "    return 0;\n",
        "}"
      ],
      "execution_count": null,
      "outputs": [
        {
          "output_type": "stream",
          "text": [
            "The normalized frequency of the random wave is 3.141282\n",
            "\n",
            "time taken : 2.015343 sec\n",
            "\n",
            "time: 2.9 s\n"
          ],
          "name": "stdout"
        }
      ]
    }
  ]
}